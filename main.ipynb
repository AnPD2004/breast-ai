{
 "cells": [
  {
   "cell_type": "markdown",
   "id": "d675e23a",
   "metadata": {},
   "source": [
    "### 1. Import thư viện và đọc dữ liệu"
   ]
  },
  {
   "cell_type": "code",
   "execution_count": 5,
   "id": "76edbea5",
   "metadata": {
    "execution": {
     "iopub.execute_input": "2025-09-01T16:36:41.030749Z",
     "iopub.status.busy": "2025-09-01T16:36:41.030384Z",
     "iopub.status.idle": "2025-09-01T16:36:46.251538Z",
     "shell.execute_reply": "2025-09-01T16:36:46.250560Z"
    },
    "papermill": {
     "duration": 5.232729,
     "end_time": "2025-09-01T16:36:46.253608",
     "exception": false,
     "start_time": "2025-09-01T16:36:41.020879",
     "status": "completed"
    },
    "tags": []
   },
   "outputs": [
    {
     "name": "stderr",
     "output_type": "stream",
     "text": [
      "Matplotlib is building the font cache; this may take a moment.\n"
     ]
    }
   ],
   "source": [
    "import pandas as pd\n",
    "import seaborn as sns"
   ]
  },
  {
   "cell_type": "code",
   "execution_count": 6,
   "id": "d4b4f364",
   "metadata": {
    "execution": {
     "iopub.execute_input": "2025-09-01T16:36:46.272256Z",
     "iopub.status.busy": "2025-09-01T16:36:46.271792Z",
     "iopub.status.idle": "2025-09-01T16:36:46.680346Z",
     "shell.execute_reply": "2025-09-01T16:36:46.679175Z"
    },
    "papermill": {
     "duration": 0.420522,
     "end_time": "2025-09-01T16:36:46.682110",
     "exception": false,
     "start_time": "2025-09-01T16:36:46.261588",
     "status": "completed"
    },
    "tags": []
   },
   "outputs": [
    {
     "name": "stderr",
     "output_type": "stream",
     "text": [
      "<>:1: SyntaxWarning: invalid escape sequence '\\M'\n",
      "<>:1: SyntaxWarning: invalid escape sequence '\\M'\n",
      "C:\\Users\\Admin\\AppData\\Local\\Temp\\ipykernel_17172\\2828029461.py:1: SyntaxWarning: invalid escape sequence '\\M'\n",
      "  df=pd.read_csv(\"dataset\\METABRIC_RNA_Mutation.csv\")\n",
      "C:\\Users\\Admin\\AppData\\Local\\Temp\\ipykernel_17172\\2828029461.py:1: DtypeWarning: Columns (678,688,690,692) have mixed types. Specify dtype option on import or set low_memory=False.\n",
      "  df=pd.read_csv(\"dataset\\METABRIC_RNA_Mutation.csv\")\n"
     ]
    }
   ],
   "source": [
    "df=pd.read_csv(\"dataset\\METABRIC_RNA_Mutation.csv\")"
   ]
  },
  {
   "cell_type": "code",
   "execution_count": 7,
   "id": "69e1ca25",
   "metadata": {
    "execution": {
     "iopub.execute_input": "2025-09-01T16:36:46.698708Z",
     "iopub.status.busy": "2025-09-01T16:36:46.698328Z",
     "iopub.status.idle": "2025-09-01T16:36:46.744855Z",
     "shell.execute_reply": "2025-09-01T16:36:46.743970Z"
    },
    "papermill": {
     "duration": 0.056443,
     "end_time": "2025-09-01T16:36:46.746336",
     "exception": false,
     "start_time": "2025-09-01T16:36:46.689893",
     "status": "completed"
    },
    "tags": []
   },
   "outputs": [
    {
     "data": {
      "text/html": [
       "<div>\n",
       "<style scoped>\n",
       "    .dataframe tbody tr th:only-of-type {\n",
       "        vertical-align: middle;\n",
       "    }\n",
       "\n",
       "    .dataframe tbody tr th {\n",
       "        vertical-align: top;\n",
       "    }\n",
       "\n",
       "    .dataframe thead th {\n",
       "        text-align: right;\n",
       "    }\n",
       "</style>\n",
       "<table border=\"1\" class=\"dataframe\">\n",
       "  <thead>\n",
       "    <tr style=\"text-align: right;\">\n",
       "      <th></th>\n",
       "      <th>patient_id</th>\n",
       "      <th>age_at_diagnosis</th>\n",
       "      <th>type_of_breast_surgery</th>\n",
       "      <th>cancer_type</th>\n",
       "      <th>cancer_type_detailed</th>\n",
       "      <th>cellularity</th>\n",
       "      <th>chemotherapy</th>\n",
       "      <th>pam50_+_claudin-low_subtype</th>\n",
       "      <th>cohort</th>\n",
       "      <th>er_status_measured_by_ihc</th>\n",
       "      <th>...</th>\n",
       "      <th>mtap_mut</th>\n",
       "      <th>ppp2cb_mut</th>\n",
       "      <th>smarcd1_mut</th>\n",
       "      <th>nras_mut</th>\n",
       "      <th>ndfip1_mut</th>\n",
       "      <th>hras_mut</th>\n",
       "      <th>prps2_mut</th>\n",
       "      <th>smarcb1_mut</th>\n",
       "      <th>stmn2_mut</th>\n",
       "      <th>siah1_mut</th>\n",
       "    </tr>\n",
       "  </thead>\n",
       "  <tbody>\n",
       "    <tr>\n",
       "      <th>0</th>\n",
       "      <td>0</td>\n",
       "      <td>75.65</td>\n",
       "      <td>MASTECTOMY</td>\n",
       "      <td>Breast Cancer</td>\n",
       "      <td>Breast Invasive Ductal Carcinoma</td>\n",
       "      <td>NaN</td>\n",
       "      <td>0</td>\n",
       "      <td>claudin-low</td>\n",
       "      <td>1.0</td>\n",
       "      <td>Positve</td>\n",
       "      <td>...</td>\n",
       "      <td>0</td>\n",
       "      <td>0</td>\n",
       "      <td>0</td>\n",
       "      <td>0</td>\n",
       "      <td>0</td>\n",
       "      <td>0</td>\n",
       "      <td>0</td>\n",
       "      <td>0</td>\n",
       "      <td>0</td>\n",
       "      <td>0</td>\n",
       "    </tr>\n",
       "    <tr>\n",
       "      <th>1</th>\n",
       "      <td>2</td>\n",
       "      <td>43.19</td>\n",
       "      <td>BREAST CONSERVING</td>\n",
       "      <td>Breast Cancer</td>\n",
       "      <td>Breast Invasive Ductal Carcinoma</td>\n",
       "      <td>High</td>\n",
       "      <td>0</td>\n",
       "      <td>LumA</td>\n",
       "      <td>1.0</td>\n",
       "      <td>Positve</td>\n",
       "      <td>...</td>\n",
       "      <td>0</td>\n",
       "      <td>0</td>\n",
       "      <td>0</td>\n",
       "      <td>0</td>\n",
       "      <td>0</td>\n",
       "      <td>0</td>\n",
       "      <td>0</td>\n",
       "      <td>0</td>\n",
       "      <td>0</td>\n",
       "      <td>0</td>\n",
       "    </tr>\n",
       "    <tr>\n",
       "      <th>2</th>\n",
       "      <td>5</td>\n",
       "      <td>48.87</td>\n",
       "      <td>MASTECTOMY</td>\n",
       "      <td>Breast Cancer</td>\n",
       "      <td>Breast Invasive Ductal Carcinoma</td>\n",
       "      <td>High</td>\n",
       "      <td>1</td>\n",
       "      <td>LumB</td>\n",
       "      <td>1.0</td>\n",
       "      <td>Positve</td>\n",
       "      <td>...</td>\n",
       "      <td>0</td>\n",
       "      <td>0</td>\n",
       "      <td>0</td>\n",
       "      <td>0</td>\n",
       "      <td>0</td>\n",
       "      <td>0</td>\n",
       "      <td>0</td>\n",
       "      <td>0</td>\n",
       "      <td>0</td>\n",
       "      <td>0</td>\n",
       "    </tr>\n",
       "    <tr>\n",
       "      <th>3</th>\n",
       "      <td>6</td>\n",
       "      <td>47.68</td>\n",
       "      <td>MASTECTOMY</td>\n",
       "      <td>Breast Cancer</td>\n",
       "      <td>Breast Mixed Ductal and Lobular Carcinoma</td>\n",
       "      <td>Moderate</td>\n",
       "      <td>1</td>\n",
       "      <td>LumB</td>\n",
       "      <td>1.0</td>\n",
       "      <td>Positve</td>\n",
       "      <td>...</td>\n",
       "      <td>0</td>\n",
       "      <td>0</td>\n",
       "      <td>0</td>\n",
       "      <td>0</td>\n",
       "      <td>0</td>\n",
       "      <td>0</td>\n",
       "      <td>0</td>\n",
       "      <td>0</td>\n",
       "      <td>0</td>\n",
       "      <td>0</td>\n",
       "    </tr>\n",
       "    <tr>\n",
       "      <th>4</th>\n",
       "      <td>8</td>\n",
       "      <td>76.97</td>\n",
       "      <td>MASTECTOMY</td>\n",
       "      <td>Breast Cancer</td>\n",
       "      <td>Breast Mixed Ductal and Lobular Carcinoma</td>\n",
       "      <td>High</td>\n",
       "      <td>1</td>\n",
       "      <td>LumB</td>\n",
       "      <td>1.0</td>\n",
       "      <td>Positve</td>\n",
       "      <td>...</td>\n",
       "      <td>0</td>\n",
       "      <td>0</td>\n",
       "      <td>0</td>\n",
       "      <td>0</td>\n",
       "      <td>0</td>\n",
       "      <td>0</td>\n",
       "      <td>0</td>\n",
       "      <td>0</td>\n",
       "      <td>0</td>\n",
       "      <td>0</td>\n",
       "    </tr>\n",
       "    <tr>\n",
       "      <th>...</th>\n",
       "      <td>...</td>\n",
       "      <td>...</td>\n",
       "      <td>...</td>\n",
       "      <td>...</td>\n",
       "      <td>...</td>\n",
       "      <td>...</td>\n",
       "      <td>...</td>\n",
       "      <td>...</td>\n",
       "      <td>...</td>\n",
       "      <td>...</td>\n",
       "      <td>...</td>\n",
       "      <td>...</td>\n",
       "      <td>...</td>\n",
       "      <td>...</td>\n",
       "      <td>...</td>\n",
       "      <td>...</td>\n",
       "      <td>...</td>\n",
       "      <td>...</td>\n",
       "      <td>...</td>\n",
       "      <td>...</td>\n",
       "      <td>...</td>\n",
       "    </tr>\n",
       "    <tr>\n",
       "      <th>1899</th>\n",
       "      <td>7295</td>\n",
       "      <td>43.10</td>\n",
       "      <td>BREAST CONSERVING</td>\n",
       "      <td>Breast Cancer</td>\n",
       "      <td>Breast Invasive Lobular Carcinoma</td>\n",
       "      <td>High</td>\n",
       "      <td>0</td>\n",
       "      <td>LumA</td>\n",
       "      <td>4.0</td>\n",
       "      <td>Positve</td>\n",
       "      <td>...</td>\n",
       "      <td>0</td>\n",
       "      <td>0</td>\n",
       "      <td>0</td>\n",
       "      <td>0</td>\n",
       "      <td>0</td>\n",
       "      <td>0</td>\n",
       "      <td>0</td>\n",
       "      <td>0</td>\n",
       "      <td>0</td>\n",
       "      <td>0</td>\n",
       "    </tr>\n",
       "    <tr>\n",
       "      <th>1900</th>\n",
       "      <td>7296</td>\n",
       "      <td>42.88</td>\n",
       "      <td>MASTECTOMY</td>\n",
       "      <td>Breast Cancer</td>\n",
       "      <td>Breast Invasive Ductal Carcinoma</td>\n",
       "      <td>High</td>\n",
       "      <td>0</td>\n",
       "      <td>LumB</td>\n",
       "      <td>4.0</td>\n",
       "      <td>Positve</td>\n",
       "      <td>...</td>\n",
       "      <td>0</td>\n",
       "      <td>0</td>\n",
       "      <td>0</td>\n",
       "      <td>0</td>\n",
       "      <td>0</td>\n",
       "      <td>0</td>\n",
       "      <td>0</td>\n",
       "      <td>0</td>\n",
       "      <td>0</td>\n",
       "      <td>0</td>\n",
       "    </tr>\n",
       "    <tr>\n",
       "      <th>1901</th>\n",
       "      <td>7297</td>\n",
       "      <td>62.90</td>\n",
       "      <td>MASTECTOMY</td>\n",
       "      <td>Breast Cancer</td>\n",
       "      <td>Breast Invasive Ductal Carcinoma</td>\n",
       "      <td>High</td>\n",
       "      <td>0</td>\n",
       "      <td>LumB</td>\n",
       "      <td>4.0</td>\n",
       "      <td>Positve</td>\n",
       "      <td>...</td>\n",
       "      <td>0</td>\n",
       "      <td>0</td>\n",
       "      <td>0</td>\n",
       "      <td>0</td>\n",
       "      <td>0</td>\n",
       "      <td>0</td>\n",
       "      <td>0</td>\n",
       "      <td>0</td>\n",
       "      <td>0</td>\n",
       "      <td>0</td>\n",
       "    </tr>\n",
       "    <tr>\n",
       "      <th>1902</th>\n",
       "      <td>7298</td>\n",
       "      <td>61.16</td>\n",
       "      <td>MASTECTOMY</td>\n",
       "      <td>Breast Cancer</td>\n",
       "      <td>Breast Invasive Ductal Carcinoma</td>\n",
       "      <td>Moderate</td>\n",
       "      <td>0</td>\n",
       "      <td>LumB</td>\n",
       "      <td>4.0</td>\n",
       "      <td>Positve</td>\n",
       "      <td>...</td>\n",
       "      <td>0</td>\n",
       "      <td>0</td>\n",
       "      <td>0</td>\n",
       "      <td>0</td>\n",
       "      <td>0</td>\n",
       "      <td>0</td>\n",
       "      <td>0</td>\n",
       "      <td>0</td>\n",
       "      <td>0</td>\n",
       "      <td>0</td>\n",
       "    </tr>\n",
       "    <tr>\n",
       "      <th>1903</th>\n",
       "      <td>7299</td>\n",
       "      <td>60.02</td>\n",
       "      <td>BREAST CONSERVING</td>\n",
       "      <td>Breast Cancer</td>\n",
       "      <td>Breast Invasive Ductal Carcinoma</td>\n",
       "      <td>High</td>\n",
       "      <td>0</td>\n",
       "      <td>LumB</td>\n",
       "      <td>4.0</td>\n",
       "      <td>Positve</td>\n",
       "      <td>...</td>\n",
       "      <td>0</td>\n",
       "      <td>0</td>\n",
       "      <td>0</td>\n",
       "      <td>0</td>\n",
       "      <td>0</td>\n",
       "      <td>0</td>\n",
       "      <td>0</td>\n",
       "      <td>0</td>\n",
       "      <td>0</td>\n",
       "      <td>0</td>\n",
       "    </tr>\n",
       "  </tbody>\n",
       "</table>\n",
       "<p>1904 rows × 693 columns</p>\n",
       "</div>"
      ],
      "text/plain": [
       "      patient_id  age_at_diagnosis type_of_breast_surgery    cancer_type  \\\n",
       "0              0             75.65             MASTECTOMY  Breast Cancer   \n",
       "1              2             43.19      BREAST CONSERVING  Breast Cancer   \n",
       "2              5             48.87             MASTECTOMY  Breast Cancer   \n",
       "3              6             47.68             MASTECTOMY  Breast Cancer   \n",
       "4              8             76.97             MASTECTOMY  Breast Cancer   \n",
       "...          ...               ...                    ...            ...   \n",
       "1899        7295             43.10      BREAST CONSERVING  Breast Cancer   \n",
       "1900        7296             42.88             MASTECTOMY  Breast Cancer   \n",
       "1901        7297             62.90             MASTECTOMY  Breast Cancer   \n",
       "1902        7298             61.16             MASTECTOMY  Breast Cancer   \n",
       "1903        7299             60.02      BREAST CONSERVING  Breast Cancer   \n",
       "\n",
       "                           cancer_type_detailed cellularity  chemotherapy  \\\n",
       "0              Breast Invasive Ductal Carcinoma         NaN             0   \n",
       "1              Breast Invasive Ductal Carcinoma        High             0   \n",
       "2              Breast Invasive Ductal Carcinoma        High             1   \n",
       "3     Breast Mixed Ductal and Lobular Carcinoma    Moderate             1   \n",
       "4     Breast Mixed Ductal and Lobular Carcinoma        High             1   \n",
       "...                                         ...         ...           ...   \n",
       "1899          Breast Invasive Lobular Carcinoma        High             0   \n",
       "1900           Breast Invasive Ductal Carcinoma        High             0   \n",
       "1901           Breast Invasive Ductal Carcinoma        High             0   \n",
       "1902           Breast Invasive Ductal Carcinoma    Moderate             0   \n",
       "1903           Breast Invasive Ductal Carcinoma        High             0   \n",
       "\n",
       "     pam50_+_claudin-low_subtype  cohort er_status_measured_by_ihc  ...  \\\n",
       "0                    claudin-low     1.0                   Positve  ...   \n",
       "1                           LumA     1.0                   Positve  ...   \n",
       "2                           LumB     1.0                   Positve  ...   \n",
       "3                           LumB     1.0                   Positve  ...   \n",
       "4                           LumB     1.0                   Positve  ...   \n",
       "...                          ...     ...                       ...  ...   \n",
       "1899                        LumA     4.0                   Positve  ...   \n",
       "1900                        LumB     4.0                   Positve  ...   \n",
       "1901                        LumB     4.0                   Positve  ...   \n",
       "1902                        LumB     4.0                   Positve  ...   \n",
       "1903                        LumB     4.0                   Positve  ...   \n",
       "\n",
       "     mtap_mut  ppp2cb_mut smarcd1_mut nras_mut ndfip1_mut  hras_mut prps2_mut  \\\n",
       "0           0           0           0        0          0         0         0   \n",
       "1           0           0           0        0          0         0         0   \n",
       "2           0           0           0        0          0         0         0   \n",
       "3           0           0           0        0          0         0         0   \n",
       "4           0           0           0        0          0         0         0   \n",
       "...       ...         ...         ...      ...        ...       ...       ...   \n",
       "1899        0           0           0        0          0         0         0   \n",
       "1900        0           0           0        0          0         0         0   \n",
       "1901        0           0           0        0          0         0         0   \n",
       "1902        0           0           0        0          0         0         0   \n",
       "1903        0           0           0        0          0         0         0   \n",
       "\n",
       "     smarcb1_mut stmn2_mut  siah1_mut  \n",
       "0              0         0          0  \n",
       "1              0         0          0  \n",
       "2              0         0          0  \n",
       "3              0         0          0  \n",
       "4              0         0          0  \n",
       "...          ...       ...        ...  \n",
       "1899           0         0          0  \n",
       "1900           0         0          0  \n",
       "1901           0         0          0  \n",
       "1902           0         0          0  \n",
       "1903           0         0          0  \n",
       "\n",
       "[1904 rows x 693 columns]"
      ]
     },
     "execution_count": 7,
     "metadata": {},
     "output_type": "execute_result"
    }
   ],
   "source": [
    "df"
   ]
  },
  {
   "cell_type": "markdown",
   "id": "59d62683",
   "metadata": {},
   "source": [
    "### 2. Kiểm tra giá trị thiếu\n",
    "##### - Mỗi cột trong bảng dữ liệu có thể có ô trống (missing value).\n",
    "##### - Ví dụ: bảng thông tin bệnh nhân, có người chưa đo được HER2, ô đó để trống.\n",
    "##### - df.isna().sum() đếm xem mỗi cột có bao nhiêu ô trống.\n",
    "##### - Nếu nhiều ô trống, ta cần lấp đầy hoặc loại bỏ trước khi dùng cho machine learning.\n",
    "##### -> Tóm tắt: kiểm tra xem cái danh sách bệnh nhân có chỗ nào thiếu thông tin không.\n"
   ]
  },
  {
   "cell_type": "code",
   "execution_count": 8,
   "id": "7f53b017",
   "metadata": {
    "execution": {
     "iopub.execute_input": "2025-09-01T16:36:46.764324Z",
     "iopub.status.busy": "2025-09-01T16:36:46.763987Z",
     "iopub.status.idle": "2025-09-01T16:36:46.800024Z",
     "shell.execute_reply": "2025-09-01T16:36:46.798682Z"
    },
    "papermill": {
     "duration": 0.04657,
     "end_time": "2025-09-01T16:36:46.801861",
     "exception": false,
     "start_time": "2025-09-01T16:36:46.755291",
     "status": "completed"
    },
    "scrolled": true,
    "tags": []
   },
   "outputs": [
    {
     "name": "stdout",
     "output_type": "stream",
     "text": [
      "type_of_breast_surgery             22\n",
      "cancer_type_detailed               15\n",
      "cellularity                        54\n",
      "er_status_measured_by_ihc          30\n",
      "neoplasm_histologic_grade          72\n",
      "tumor_other_histologic_subtype     15\n",
      "primary_tumor_laterality          106\n",
      "mutation_count                     45\n",
      "oncotree_code                      15\n",
      "3-gene_classifier_subtype         204\n",
      "tumor_size                         20\n",
      "tumor_stage                       501\n",
      "death_from_cancer                   1\n",
      "dtype: int64\n"
     ]
    }
   ],
   "source": [
    "na_counts = df.isna().sum()\n",
    "na_counts = na_counts[na_counts > 0]  \n",
    "\n",
    "print(na_counts)"
   ]
  },
  {
   "cell_type": "markdown",
   "id": "0baac7bd",
   "metadata": {},
   "source": [
    "### 3. Khám phá dữ liệu categorical (dạng chữ)"
   ]
  },
  {
   "cell_type": "markdown",
   "id": "d0db513b",
   "metadata": {},
   "source": [
    "##### - Một số cột là dạng “category” (chữ, không phải số).\n",
    "##### - Ví dụ her2_status có “Positive” hoặc “Negative”.\n",
    "##### - .unique() cho biết trong cột này có bao nhiêu loại khác nhau.\n",
    "##### - Giúp ta biết cách chuyển chữ thành số sau này (vì máy tính không hiểu chữ)."
   ]
  },
  {
   "cell_type": "code",
   "execution_count": 9,
   "id": "ddc60c21",
   "metadata": {
    "execution": {
     "iopub.execute_input": "2025-09-01T16:36:46.819631Z",
     "iopub.status.busy": "2025-09-01T16:36:46.819246Z",
     "iopub.status.idle": "2025-09-01T16:36:46.829535Z",
     "shell.execute_reply": "2025-09-01T16:36:46.828588Z"
    },
    "papermill": {
     "duration": 0.020932,
     "end_time": "2025-09-01T16:36:46.831000",
     "exception": false,
     "start_time": "2025-09-01T16:36:46.810068",
     "status": "completed"
    },
    "tags": []
   },
   "outputs": [
    {
     "data": {
      "text/plain": [
       "array(['Positve', 'Negative', nan], dtype=object)"
      ]
     },
     "execution_count": 9,
     "metadata": {},
     "output_type": "execute_result"
    }
   ],
   "source": [
    "df[\"er_status_measured_by_ihc\"].unique()"
   ]
  },
  {
   "cell_type": "code",
   "execution_count": 10,
   "id": "917a05b6",
   "metadata": {
    "execution": {
     "iopub.execute_input": "2025-09-01T16:36:46.849107Z",
     "iopub.status.busy": "2025-09-01T16:36:46.848765Z",
     "iopub.status.idle": "2025-09-01T16:36:46.858295Z",
     "shell.execute_reply": "2025-09-01T16:36:46.857342Z"
    },
    "papermill": {
     "duration": 0.020412,
     "end_time": "2025-09-01T16:36:46.859927",
     "exception": false,
     "start_time": "2025-09-01T16:36:46.839515",
     "status": "completed"
    },
    "tags": []
   },
   "outputs": [
    {
     "data": {
      "text/plain": [
       "array(['NEUTRAL', 'LOSS', 'GAIN', 'UNDEF'], dtype=object)"
      ]
     },
     "execution_count": 10,
     "metadata": {},
     "output_type": "execute_result"
    }
   ],
   "source": [
    "df[\"her2_status_measured_by_snp6\"].unique()"
   ]
  },
  {
   "cell_type": "code",
   "execution_count": 11,
   "id": "a767c9ca",
   "metadata": {
    "execution": {
     "iopub.execute_input": "2025-09-01T16:36:46.877328Z",
     "iopub.status.busy": "2025-09-01T16:36:46.877023Z",
     "iopub.status.idle": "2025-09-01T16:36:46.883653Z",
     "shell.execute_reply": "2025-09-01T16:36:46.882596Z"
    },
    "papermill": {
     "duration": 0.017105,
     "end_time": "2025-09-01T16:36:46.885253",
     "exception": false,
     "start_time": "2025-09-01T16:36:46.868148",
     "status": "completed"
    },
    "tags": []
   },
   "outputs": [
    {
     "data": {
      "text/plain": [
       "array(['Negative', 'Positive'], dtype=object)"
      ]
     },
     "execution_count": 11,
     "metadata": {},
     "output_type": "execute_result"
    }
   ],
   "source": [
    "df[\"her2_status\"].unique()"
   ]
  },
  {
   "cell_type": "markdown",
   "id": "eff44d5e",
   "metadata": {},
   "source": [
    "##### - Vẽ biểu đồ tần suất các giá trị của tumor_stage"
   ]
  },
  {
   "cell_type": "code",
   "execution_count": 12,
   "id": "23389b4e",
   "metadata": {
    "execution": {
     "iopub.execute_input": "2025-09-01T16:36:46.904307Z",
     "iopub.status.busy": "2025-09-01T16:36:46.903964Z",
     "iopub.status.idle": "2025-09-01T16:36:46.913922Z",
     "shell.execute_reply": "2025-09-01T16:36:46.912867Z"
    },
    "papermill": {
     "duration": 0.021814,
     "end_time": "2025-09-01T16:36:46.915436",
     "exception": false,
     "start_time": "2025-09-01T16:36:46.893622",
     "status": "completed"
    },
    "tags": []
   },
   "outputs": [
    {
     "data": {
      "text/plain": [
       "0       2.0\n",
       "1       1.0\n",
       "2       2.0\n",
       "3       2.0\n",
       "4       2.0\n",
       "       ... \n",
       "1899    NaN\n",
       "1900    NaN\n",
       "1901    NaN\n",
       "1902    NaN\n",
       "1903    NaN\n",
       "Name: tumor_stage, Length: 1904, dtype: float64"
      ]
     },
     "execution_count": 12,
     "metadata": {},
     "output_type": "execute_result"
    }
   ],
   "source": [
    "df[\"tumor_stage\"]"
   ]
  },
  {
   "cell_type": "code",
   "execution_count": 13,
   "id": "38d30035",
   "metadata": {
    "execution": {
     "iopub.execute_input": "2025-09-01T16:36:46.933532Z",
     "iopub.status.busy": "2025-09-01T16:36:46.933170Z",
     "iopub.status.idle": "2025-09-01T16:36:47.255390Z",
     "shell.execute_reply": "2025-09-01T16:36:47.254192Z"
    },
    "papermill": {
     "duration": 0.333369,
     "end_time": "2025-09-01T16:36:47.257363",
     "exception": false,
     "start_time": "2025-09-01T16:36:46.923994",
     "status": "completed"
    },
    "tags": []
   },
   "outputs": [
    {
     "data": {
      "text/plain": [
       "<Axes: xlabel='tumor_stage', ylabel='count'>"
      ]
     },
     "execution_count": 13,
     "metadata": {},
     "output_type": "execute_result"
    },
    {
     "data": {
      "image/png": "[encoded data removed]",
      "text/plain": [
       "<Figure size 640x480 with 1 Axes>"
      ]
     },
     "metadata": {},
     "output_type": "display_data"
    }
   ],
   "source": [
    "sns.countplot(df,x=\"tumor_stage\")"
   ]
  },
  {
   "cell_type": "markdown",
   "id": "30eecd40",
   "metadata": {},
   "source": [
    "### 4. Lựa chọn các feature quan trọng"
   ]
  },
  {
   "cell_type": "markdown",
   "id": "7433e033",
   "metadata": {},
   "source": [
    "##### - Trong bảng gốc có quá nhiều cột (cả gene expression + thông tin bệnh nhân).\n",
    "##### - Chúng ta chỉ lấy những cột thật sự cần thiết để dự đoán.\n",
    "##### - Giúp giảm phức tạp, dễ xử lý hơn"
   ]
  },
  {
   "cell_type": "code",
   "execution_count": 14,
   "id": "4a7ceacc",
   "metadata": {
    "execution": {
     "iopub.execute_input": "2025-09-01T16:36:47.276342Z",
     "iopub.status.busy": "2025-09-01T16:36:47.276029Z",
     "iopub.status.idle": "2025-09-01T16:36:47.280851Z",
     "shell.execute_reply": "2025-09-01T16:36:47.279896Z"
    },
    "papermill": {
     "duration": 0.016225,
     "end_time": "2025-09-01T16:36:47.282489",
     "exception": false,
     "start_time": "2025-09-01T16:36:47.266264",
     "status": "completed"
    },
    "tags": []
   },
   "outputs": [],
   "source": [
    "KEEP=[\"type_of_breast_surgery\",\n",
    "      \"cancer_type\",\n",
    "      \"cancer_type_detailed\",\n",
    "      \"cellularity\",\n",
    "      \"chemotherapy\",\n",
    "      \"pam50_+_claudin-low_subtype\",\n",
    "      \"neoplasm_histologic_grade\",\n",
    "      \"her2_status\",\n",
    "      \"hormone_therapy\",\n",
    "      'lymph_nodes_examined_positive',\n",
    "      \"nottingham_prognostic_index\",\n",
    "      \"pr_status\",\n",
    "      \"radio_therapy\",\n",
    "     ]\n"
   ]
  },
  {
   "cell_type": "code",
   "execution_count": 15,
   "id": "de554159",
   "metadata": {
    "execution": {
     "iopub.execute_input": "2025-09-01T16:36:47.302569Z",
     "iopub.status.busy": "2025-09-01T16:36:47.302222Z",
     "iopub.status.idle": "2025-09-01T16:36:47.307313Z",
     "shell.execute_reply": "2025-09-01T16:36:47.306008Z"
    },
    "papermill": {
     "duration": 0.017441,
     "end_time": "2025-09-01T16:36:47.309115",
     "exception": false,
     "start_time": "2025-09-01T16:36:47.291674",
     "status": "completed"
    },
    "tags": []
   },
   "outputs": [],
   "source": [
    "Categorical=[\"type_of_breast_surgery\",\n",
    "      \"cancer_type\",\n",
    "      \"cancer_type_detailed\",\n",
    "      \"cellularity\",\n",
    "      \"chemotherapy\",\n",
    "      \"pam50_+_claudin-low_subtype\",\n",
    "      \"neoplasm_histologic_grade\",\n",
    "      \"her2_status\",\n",
    "      \"hormone_therapy\",\n",
    "      \"pr_status\",\n",
    "      \"radio_therapy\"\n",
    "     ]"
   ]
  },
  {
   "cell_type": "code",
   "execution_count": 16,
   "id": "de708f79",
   "metadata": {
    "execution": {
     "iopub.execute_input": "2025-09-01T16:36:47.328959Z",
     "iopub.status.busy": "2025-09-01T16:36:47.328638Z",
     "iopub.status.idle": "2025-09-01T16:36:47.334212Z",
     "shell.execute_reply": "2025-09-01T16:36:47.333360Z"
    },
    "papermill": {
     "duration": 0.017813,
     "end_time": "2025-09-01T16:36:47.336055",
     "exception": false,
     "start_time": "2025-09-01T16:36:47.318242",
     "status": "completed"
    },
    "tags": []
   },
   "outputs": [],
   "source": [
    "df_features=df[KEEP]"
   ]
  },
  {
   "cell_type": "code",
   "execution_count": 17,
   "id": "2435f20e",
   "metadata": {
    "execution": {
     "iopub.execute_input": "2025-09-01T16:36:47.354968Z",
     "iopub.status.busy": "2025-09-01T16:36:47.354591Z",
     "iopub.status.idle": "2025-09-01T16:36:47.363562Z",
     "shell.execute_reply": "2025-09-01T16:36:47.362435Z"
    },
    "papermill": {
     "duration": 0.020294,
     "end_time": "2025-09-01T16:36:47.365203",
     "exception": false,
     "start_time": "2025-09-01T16:36:47.344909",
     "status": "completed"
    },
    "tags": []
   },
   "outputs": [
    {
     "name": "stdout",
     "output_type": "stream",
     "text": [
      "type_of_breast_surgery       22\n",
      "cancer_type_detailed         15\n",
      "cellularity                  54\n",
      "neoplasm_histologic_grade    72\n",
      "dtype: int64\n"
     ]
    }
   ],
   "source": [
    "na_counts = df_features.isna().sum()\n",
    "na_counts = na_counts[na_counts > 0]  \n",
    "\n",
    "print(na_counts)"
   ]
  },
  {
   "cell_type": "markdown",
   "id": "acebaa89",
   "metadata": {},
   "source": [
    "### 5. Trực quan hóa phân phối các biến categorical"
   ]
  },
  {
   "cell_type": "markdown",
   "id": "f1a34ca1",
   "metadata": {},
   "source": [
    "##### - Vẽ biểu đồ cột cho biết mỗi loại trong cột xuất hiện bao nhiêu lần.\n",
    "##### - Ví dụ, có 50 bệnh nhân giai đoạn 1, 30 bệnh nhân giai đoạn 2.\n",
    "##### - Giúp ta nhìn tổng quát dữ liệu và phát hiện nếu dữ liệu bị lệch."
   ]
  },
  {
   "cell_type": "code",
   "execution_count": 18,
   "id": "a7ee23d6",
   "metadata": {
    "execution": {
     "iopub.execute_input": "2025-09-01T16:36:47.384274Z",
     "iopub.status.busy": "2025-09-01T16:36:47.383931Z",
     "iopub.status.idle": "2025-09-01T16:36:49.037225Z",
     "shell.execute_reply": "2025-09-01T16:36:49.036225Z"
    },
    "papermill": {
     "duration": 1.668883,
     "end_time": "2025-09-01T16:36:49.043006",
     "exception": false,
     "start_time": "2025-09-01T16:36:47.374123",
     "status": "completed"
    },
    "tags": []
   },
   "outputs": [
    {
     "data": {
      "image/png": "[encoded data removed]",
      "text/plain": [
       "<Figure size 1200x2600 with 10 Axes>"
      ]
     },
     "metadata": {},
     "output_type": "display_data"
    }
   ],
   "source": [
    "import matplotlib.pyplot as plt\n",
    "fig, axes = plt.subplots(nrows=len(Categorical)//2, ncols=2, figsize=(12, 2*len(KEEP)))\n",
    "axes=axes.flatten()\n",
    "for col,ax in zip(Categorical,axes):\n",
    "  \n",
    "    sns.countplot(data=df, x=col,ax=ax)\n",
    "    ax.set_title(f\"Distribution of {col}\")\n",
    "    ax.tick_params(axis='x', rotation=45)\n",
    "plt.tight_layout()\n",
    "plt.show()\n",
    "   "
   ]
  },
  {
   "cell_type": "code",
   "execution_count": 19,
   "id": "9c40db51",
   "metadata": {},
   "outputs": [
    {
     "name": "stdout",
     "output_type": "stream",
     "text": [
      "Shape sau khi drop missing: (1749, 13)\n"
     ]
    }
   ],
   "source": [
    "# Xóa toàn bộ hàng có missing value\n",
    "df_features = df_features.dropna()\n",
    "\n",
    "print(\"Shape sau khi drop missing:\", df_features.shape)\n"
   ]
  },
  {
   "cell_type": "markdown",
   "id": "ca1f7a33",
   "metadata": {},
   "source": [
    "### 6. Xóa giá trị thiếu cho categorical (và toàn bộ dataset)"
   ]
  },
  {
   "cell_type": "markdown",
   "id": "614452de",
   "metadata": {},
   "source": [
    "##### - Trong dữ liệu y khoa, việc điền ngẫu nhiên có thể tạo ra nhiễu.\n",
    "##### - Do đó, thay vì điền, ta xóa luôn những hàng có dữ liệu thiếu.\n",
    "##### - Như vậy, dataset chỉ giữ lại các bệnh nhân có thông tin đầy đủ."
   ]
  },
  {
   "cell_type": "code",
   "execution_count": 20,
   "id": "566e4c40",
   "metadata": {
    "execution": {
     "iopub.execute_input": "2025-09-01T16:36:49.071717Z",
     "iopub.status.busy": "2025-09-01T16:36:49.071339Z",
     "iopub.status.idle": "2025-09-01T16:36:49.077431Z",
     "shell.execute_reply": "2025-09-01T16:36:49.076098Z"
    },
    "papermill": {
     "duration": 0.022337,
     "end_time": "2025-09-01T16:36:49.079373",
     "exception": false,
     "start_time": "2025-09-01T16:36:49.057036",
     "status": "completed"
    },
    "tags": []
   },
   "outputs": [],
   "source": [
    "df_features = df_features.dropna()"
   ]
  },
  {
   "cell_type": "code",
   "execution_count": 21,
   "id": "ac14fe9a",
   "metadata": {
    "execution": {
     "iopub.execute_input": "2025-09-01T16:36:49.176668Z",
     "iopub.status.busy": "2025-09-01T16:36:49.176309Z",
     "iopub.status.idle": "2025-09-01T16:36:49.186552Z",
     "shell.execute_reply": "2025-09-01T16:36:49.185569Z"
    },
    "papermill": {
     "duration": 0.094177,
     "end_time": "2025-09-01T16:36:49.188023",
     "exception": false,
     "start_time": "2025-09-01T16:36:49.093846",
     "status": "completed"
    },
    "tags": []
   },
   "outputs": [
    {
     "data": {
      "text/plain": [
       "type_of_breast_surgery           0\n",
       "cancer_type                      0\n",
       "cancer_type_detailed             0\n",
       "cellularity                      0\n",
       "chemotherapy                     0\n",
       "pam50_+_claudin-low_subtype      0\n",
       "neoplasm_histologic_grade        0\n",
       "her2_status                      0\n",
       "hormone_therapy                  0\n",
       "lymph_nodes_examined_positive    0\n",
       "nottingham_prognostic_index      0\n",
       "pr_status                        0\n",
       "radio_therapy                    0\n",
       "dtype: int64"
      ]
     },
     "execution_count": 21,
     "metadata": {},
     "output_type": "execute_result"
    }
   ],
   "source": [
    "df_features.isna().sum()"
   ]
  },
  {
   "cell_type": "code",
   "execution_count": 22,
   "id": "052f6f79",
   "metadata": {
    "execution": {
     "iopub.execute_input": "2025-09-01T16:36:49.217216Z",
     "iopub.status.busy": "2025-09-01T16:36:49.216896Z",
     "iopub.status.idle": "2025-09-01T16:36:49.221306Z",
     "shell.execute_reply": "2025-09-01T16:36:49.220269Z"
    },
    "papermill": {
     "duration": 0.021084,
     "end_time": "2025-09-01T16:36:49.222903",
     "exception": false,
     "start_time": "2025-09-01T16:36:49.201819",
     "status": "completed"
    },
    "tags": []
   },
   "outputs": [
    {
     "data": {
      "text/html": [
       "<div>\n",
       "<style scoped>\n",
       "    .dataframe tbody tr th:only-of-type {\n",
       "        vertical-align: middle;\n",
       "    }\n",
       "\n",
       "    .dataframe tbody tr th {\n",
       "        vertical-align: top;\n",
       "    }\n",
       "\n",
       "    .dataframe thead th {\n",
       "        text-align: right;\n",
       "    }\n",
       "</style>\n",
       "<table border=\"1\" class=\"dataframe\">\n",
       "  <thead>\n",
       "    <tr style=\"text-align: right;\">\n",
       "      <th></th>\n",
       "      <th>type_of_breast_surgery</th>\n",
       "      <th>cancer_type</th>\n",
       "      <th>cancer_type_detailed</th>\n",
       "      <th>cellularity</th>\n",
       "      <th>chemotherapy</th>\n",
       "      <th>pam50_+_claudin-low_subtype</th>\n",
       "      <th>neoplasm_histologic_grade</th>\n",
       "      <th>her2_status</th>\n",
       "      <th>hormone_therapy</th>\n",
       "      <th>lymph_nodes_examined_positive</th>\n",
       "      <th>nottingham_prognostic_index</th>\n",
       "      <th>pr_status</th>\n",
       "      <th>radio_therapy</th>\n",
       "    </tr>\n",
       "  </thead>\n",
       "  <tbody>\n",
       "    <tr>\n",
       "      <th>1</th>\n",
       "      <td>BREAST CONSERVING</td>\n",
       "      <td>Breast Cancer</td>\n",
       "      <td>Breast Invasive Ductal Carcinoma</td>\n",
       "      <td>High</td>\n",
       "      <td>0</td>\n",
       "      <td>LumA</td>\n",
       "      <td>3.0</td>\n",
       "      <td>Negative</td>\n",
       "      <td>1</td>\n",
       "      <td>0.0</td>\n",
       "      <td>4.020</td>\n",
       "      <td>Positive</td>\n",
       "      <td>1</td>\n",
       "    </tr>\n",
       "    <tr>\n",
       "      <th>2</th>\n",
       "      <td>MASTECTOMY</td>\n",
       "      <td>Breast Cancer</td>\n",
       "      <td>Breast Invasive Ductal Carcinoma</td>\n",
       "      <td>High</td>\n",
       "      <td>1</td>\n",
       "      <td>LumB</td>\n",
       "      <td>2.0</td>\n",
       "      <td>Negative</td>\n",
       "      <td>1</td>\n",
       "      <td>1.0</td>\n",
       "      <td>4.030</td>\n",
       "      <td>Positive</td>\n",
       "      <td>0</td>\n",
       "    </tr>\n",
       "    <tr>\n",
       "      <th>3</th>\n",
       "      <td>MASTECTOMY</td>\n",
       "      <td>Breast Cancer</td>\n",
       "      <td>Breast Mixed Ductal and Lobular Carcinoma</td>\n",
       "      <td>Moderate</td>\n",
       "      <td>1</td>\n",
       "      <td>LumB</td>\n",
       "      <td>2.0</td>\n",
       "      <td>Negative</td>\n",
       "      <td>1</td>\n",
       "      <td>3.0</td>\n",
       "      <td>4.050</td>\n",
       "      <td>Positive</td>\n",
       "      <td>1</td>\n",
       "    </tr>\n",
       "    <tr>\n",
       "      <th>4</th>\n",
       "      <td>MASTECTOMY</td>\n",
       "      <td>Breast Cancer</td>\n",
       "      <td>Breast Mixed Ductal and Lobular Carcinoma</td>\n",
       "      <td>High</td>\n",
       "      <td>1</td>\n",
       "      <td>LumB</td>\n",
       "      <td>3.0</td>\n",
       "      <td>Negative</td>\n",
       "      <td>1</td>\n",
       "      <td>8.0</td>\n",
       "      <td>6.080</td>\n",
       "      <td>Positive</td>\n",
       "      <td>1</td>\n",
       "    </tr>\n",
       "    <tr>\n",
       "      <th>5</th>\n",
       "      <td>MASTECTOMY</td>\n",
       "      <td>Breast Cancer</td>\n",
       "      <td>Breast Invasive Ductal Carcinoma</td>\n",
       "      <td>Moderate</td>\n",
       "      <td>0</td>\n",
       "      <td>LumB</td>\n",
       "      <td>3.0</td>\n",
       "      <td>Negative</td>\n",
       "      <td>1</td>\n",
       "      <td>0.0</td>\n",
       "      <td>4.062</td>\n",
       "      <td>Positive</td>\n",
       "      <td>1</td>\n",
       "    </tr>\n",
       "  </tbody>\n",
       "</table>\n",
       "</div>"
      ],
      "text/plain": [
       "  type_of_breast_surgery    cancer_type  \\\n",
       "1      BREAST CONSERVING  Breast Cancer   \n",
       "2             MASTECTOMY  Breast Cancer   \n",
       "3             MASTECTOMY  Breast Cancer   \n",
       "4             MASTECTOMY  Breast Cancer   \n",
       "5             MASTECTOMY  Breast Cancer   \n",
       "\n",
       "                        cancer_type_detailed cellularity  chemotherapy  \\\n",
       "1           Breast Invasive Ductal Carcinoma        High             0   \n",
       "2           Breast Invasive Ductal Carcinoma        High             1   \n",
       "3  Breast Mixed Ductal and Lobular Carcinoma    Moderate             1   \n",
       "4  Breast Mixed Ductal and Lobular Carcinoma        High             1   \n",
       "5           Breast Invasive Ductal Carcinoma    Moderate             0   \n",
       "\n",
       "  pam50_+_claudin-low_subtype  neoplasm_histologic_grade her2_status  \\\n",
       "1                        LumA                        3.0    Negative   \n",
       "2                        LumB                        2.0    Negative   \n",
       "3                        LumB                        2.0    Negative   \n",
       "4                        LumB                        3.0    Negative   \n",
       "5                        LumB                        3.0    Negative   \n",
       "\n",
       "   hormone_therapy  lymph_nodes_examined_positive  \\\n",
       "1                1                            0.0   \n",
       "2                1                            1.0   \n",
       "3                1                            3.0   \n",
       "4                1                            8.0   \n",
       "5                1                            0.0   \n",
       "\n",
       "   nottingham_prognostic_index pr_status  radio_therapy  \n",
       "1                        4.020  Positive              1  \n",
       "2                        4.030  Positive              0  \n",
       "3                        4.050  Positive              1  \n",
       "4                        6.080  Positive              1  \n",
       "5                        4.062  Positive              1  "
      ]
     },
     "execution_count": 22,
     "metadata": {},
     "output_type": "execute_result"
    }
   ],
   "source": [
    "df_features.head()"
   ]
  },
  {
   "cell_type": "markdown",
   "id": "a6eae364",
   "metadata": {},
   "source": [
    "### 7. Encode categorical thành số"
   ]
  },
  {
   "cell_type": "markdown",
   "id": "121e6f37",
   "metadata": {},
   "source": [
    "##### - Máy học không hiểu chữ (“Positive”, “Negative”).\n",
    "##### - Chúng ta chuyển chữ thành số:\n",
    "##### “Negative” → 0\n",
    "##### “Positive” → 1\n",
    "##### - Tương tự với các cột khác."
   ]
  },
  {
   "cell_type": "code",
   "execution_count": 23,
   "id": "dcd7915d",
   "metadata": {
    "execution": {
     "iopub.execute_input": "2025-09-01T16:36:49.424119Z",
     "iopub.status.busy": "2025-09-01T16:36:49.423806Z",
     "iopub.status.idle": "2025-09-01T16:36:49.429863Z",
     "shell.execute_reply": "2025-09-01T16:36:49.428966Z"
    },
    "papermill": {
     "duration": 0.023498,
     "end_time": "2025-09-01T16:36:49.431297",
     "exception": false,
     "start_time": "2025-09-01T16:36:49.407799",
     "status": "completed"
    },
    "tags": []
   },
   "outputs": [],
   "source": [
    "encoding_map = {\n",
    "    \"cellularity\": {\"Low\": 0, \"Moderate\": 1, \"High\": 2},\n",
    "    \"type_of_breast_surgery\": {'MASTECTOMY':0, 'BREAST CONSERVING':1},\n",
    "    \"cancer_type\":{'Breast Cancer':0, 'Breast Sarcoma':1},\n",
    "    \"cancer_type_detailed\": {\n",
    "    \"Breast Invasive Ductal Carcinoma\": 0,\n",
    "    \"Breast Mixed Ductal and Lobular Carcinoma\": 1,\n",
    "    \"Breast Invasive Lobular Carcinoma\": 2,\n",
    "    \"Breast Invasive Mixed Mucinous Carcinoma\": 3,\n",
    "    \"Breast\": 4,\n",
    "    \"Metaplastic Breast Cancer\": 5\n",
    "},  \n",
    "    \"pr_status\":{\n",
    "        \"Negative\":0,\n",
    "        \"Positive\":1\n",
    "    },\n",
    "    \"her2_status\":\n",
    "    {\n",
    "        \"Negative\":0,\n",
    "        \"Positive\":1\n",
    "    },\n",
    "    \"pam50_+_claudin-low_subtype\":{\n",
    "        'claudin-low':0, 'LumA':1, 'LumB':2, 'Her2':3, 'Normal':4, 'Basal':5, 'NC':6\n",
    "    }\n",
    "}\n"
   ]
  },
  {
   "cell_type": "code",
   "execution_count": 24,
   "id": "04f04e54",
   "metadata": {
    "execution": {
     "iopub.execute_input": "2025-09-01T16:36:49.460893Z",
     "iopub.status.busy": "2025-09-01T16:36:49.460565Z",
     "iopub.status.idle": "2025-09-01T16:36:49.480023Z",
     "shell.execute_reply": "2025-09-01T16:36:49.478970Z"
    },
    "papermill": {
     "duration": 0.036862,
     "end_time": "2025-09-01T16:36:49.482242",
     "exception": false,
     "start_time": "2025-09-01T16:36:49.445380",
     "status": "completed"
    },
    "tags": []
   },
   "outputs": [
    {
     "name": "stderr",
     "output_type": "stream",
     "text": [
      "C:\\Users\\Admin\\AppData\\Local\\Temp\\ipykernel_17172\\1299326653.py:2: FutureWarning: Downcasting behavior in `replace` is deprecated and will be removed in a future version. To retain the old behavior, explicitly call `result.infer_objects(copy=False)`. To opt-in to the future behavior, set `pd.set_option('future.no_silent_downcasting', True)`\n",
      "  df_features[col]=df_features[col].replace(val)\n"
     ]
    }
   ],
   "source": [
    "for col,val in encoding_map.items():\n",
    "    df_features[col]=df_features[col].replace(val)"
   ]
  },
  {
   "cell_type": "code",
   "execution_count": 25,
   "id": "026ed545",
   "metadata": {
    "execution": {
     "iopub.execute_input": "2025-09-01T16:36:49.512779Z",
     "iopub.status.busy": "2025-09-01T16:36:49.512426Z",
     "iopub.status.idle": "2025-09-01T16:36:49.529224Z",
     "shell.execute_reply": "2025-09-01T16:36:49.528225Z"
    },
    "papermill": {
     "duration": 0.034403,
     "end_time": "2025-09-01T16:36:49.530922",
     "exception": false,
     "start_time": "2025-09-01T16:36:49.496519",
     "status": "completed"
    },
    "tags": []
   },
   "outputs": [
    {
     "data": {
      "text/html": [
       "<div>\n",
       "<style scoped>\n",
       "    .dataframe tbody tr th:only-of-type {\n",
       "        vertical-align: middle;\n",
       "    }\n",
       "\n",
       "    .dataframe tbody tr th {\n",
       "        vertical-align: top;\n",
       "    }\n",
       "\n",
       "    .dataframe thead th {\n",
       "        text-align: right;\n",
       "    }\n",
       "</style>\n",
       "<table border=\"1\" class=\"dataframe\">\n",
       "  <thead>\n",
       "    <tr style=\"text-align: right;\">\n",
       "      <th></th>\n",
       "      <th>type_of_breast_surgery</th>\n",
       "      <th>cancer_type</th>\n",
       "      <th>cancer_type_detailed</th>\n",
       "      <th>cellularity</th>\n",
       "      <th>chemotherapy</th>\n",
       "      <th>pam50_+_claudin-low_subtype</th>\n",
       "      <th>neoplasm_histologic_grade</th>\n",
       "      <th>her2_status</th>\n",
       "      <th>hormone_therapy</th>\n",
       "      <th>lymph_nodes_examined_positive</th>\n",
       "      <th>nottingham_prognostic_index</th>\n",
       "      <th>pr_status</th>\n",
       "      <th>radio_therapy</th>\n",
       "    </tr>\n",
       "  </thead>\n",
       "  <tbody>\n",
       "    <tr>\n",
       "      <th>1</th>\n",
       "      <td>1</td>\n",
       "      <td>0</td>\n",
       "      <td>0</td>\n",
       "      <td>2</td>\n",
       "      <td>0</td>\n",
       "      <td>1</td>\n",
       "      <td>3.0</td>\n",
       "      <td>0</td>\n",
       "      <td>1</td>\n",
       "      <td>0.0</td>\n",
       "      <td>4.020</td>\n",
       "      <td>1</td>\n",
       "      <td>1</td>\n",
       "    </tr>\n",
       "    <tr>\n",
       "      <th>2</th>\n",
       "      <td>0</td>\n",
       "      <td>0</td>\n",
       "      <td>0</td>\n",
       "      <td>2</td>\n",
       "      <td>1</td>\n",
       "      <td>2</td>\n",
       "      <td>2.0</td>\n",
       "      <td>0</td>\n",
       "      <td>1</td>\n",
       "      <td>1.0</td>\n",
       "      <td>4.030</td>\n",
       "      <td>1</td>\n",
       "      <td>0</td>\n",
       "    </tr>\n",
       "    <tr>\n",
       "      <th>3</th>\n",
       "      <td>0</td>\n",
       "      <td>0</td>\n",
       "      <td>1</td>\n",
       "      <td>1</td>\n",
       "      <td>1</td>\n",
       "      <td>2</td>\n",
       "      <td>2.0</td>\n",
       "      <td>0</td>\n",
       "      <td>1</td>\n",
       "      <td>3.0</td>\n",
       "      <td>4.050</td>\n",
       "      <td>1</td>\n",
       "      <td>1</td>\n",
       "    </tr>\n",
       "    <tr>\n",
       "      <th>4</th>\n",
       "      <td>0</td>\n",
       "      <td>0</td>\n",
       "      <td>1</td>\n",
       "      <td>2</td>\n",
       "      <td>1</td>\n",
       "      <td>2</td>\n",
       "      <td>3.0</td>\n",
       "      <td>0</td>\n",
       "      <td>1</td>\n",
       "      <td>8.0</td>\n",
       "      <td>6.080</td>\n",
       "      <td>1</td>\n",
       "      <td>1</td>\n",
       "    </tr>\n",
       "    <tr>\n",
       "      <th>5</th>\n",
       "      <td>0</td>\n",
       "      <td>0</td>\n",
       "      <td>0</td>\n",
       "      <td>1</td>\n",
       "      <td>0</td>\n",
       "      <td>2</td>\n",
       "      <td>3.0</td>\n",
       "      <td>0</td>\n",
       "      <td>1</td>\n",
       "      <td>0.0</td>\n",
       "      <td>4.062</td>\n",
       "      <td>1</td>\n",
       "      <td>1</td>\n",
       "    </tr>\n",
       "    <tr>\n",
       "      <th>...</th>\n",
       "      <td>...</td>\n",
       "      <td>...</td>\n",
       "      <td>...</td>\n",
       "      <td>...</td>\n",
       "      <td>...</td>\n",
       "      <td>...</td>\n",
       "      <td>...</td>\n",
       "      <td>...</td>\n",
       "      <td>...</td>\n",
       "      <td>...</td>\n",
       "      <td>...</td>\n",
       "      <td>...</td>\n",
       "      <td>...</td>\n",
       "    </tr>\n",
       "    <tr>\n",
       "      <th>1899</th>\n",
       "      <td>1</td>\n",
       "      <td>0</td>\n",
       "      <td>2</td>\n",
       "      <td>2</td>\n",
       "      <td>0</td>\n",
       "      <td>1</td>\n",
       "      <td>3.0</td>\n",
       "      <td>0</td>\n",
       "      <td>1</td>\n",
       "      <td>1.0</td>\n",
       "      <td>5.050</td>\n",
       "      <td>1</td>\n",
       "      <td>1</td>\n",
       "    </tr>\n",
       "    <tr>\n",
       "      <th>1900</th>\n",
       "      <td>0</td>\n",
       "      <td>0</td>\n",
       "      <td>0</td>\n",
       "      <td>2</td>\n",
       "      <td>0</td>\n",
       "      <td>2</td>\n",
       "      <td>3.0</td>\n",
       "      <td>1</td>\n",
       "      <td>0</td>\n",
       "      <td>1.0</td>\n",
       "      <td>5.040</td>\n",
       "      <td>0</td>\n",
       "      <td>1</td>\n",
       "    </tr>\n",
       "    <tr>\n",
       "      <th>1901</th>\n",
       "      <td>0</td>\n",
       "      <td>0</td>\n",
       "      <td>0</td>\n",
       "      <td>2</td>\n",
       "      <td>0</td>\n",
       "      <td>2</td>\n",
       "      <td>3.0</td>\n",
       "      <td>0</td>\n",
       "      <td>1</td>\n",
       "      <td>45.0</td>\n",
       "      <td>6.050</td>\n",
       "      <td>1</td>\n",
       "      <td>1</td>\n",
       "    </tr>\n",
       "    <tr>\n",
       "      <th>1902</th>\n",
       "      <td>0</td>\n",
       "      <td>0</td>\n",
       "      <td>0</td>\n",
       "      <td>1</td>\n",
       "      <td>0</td>\n",
       "      <td>2</td>\n",
       "      <td>2.0</td>\n",
       "      <td>0</td>\n",
       "      <td>1</td>\n",
       "      <td>12.0</td>\n",
       "      <td>5.050</td>\n",
       "      <td>1</td>\n",
       "      <td>0</td>\n",
       "    </tr>\n",
       "    <tr>\n",
       "      <th>1903</th>\n",
       "      <td>1</td>\n",
       "      <td>0</td>\n",
       "      <td>0</td>\n",
       "      <td>2</td>\n",
       "      <td>0</td>\n",
       "      <td>2</td>\n",
       "      <td>3.0</td>\n",
       "      <td>0</td>\n",
       "      <td>1</td>\n",
       "      <td>1.0</td>\n",
       "      <td>5.040</td>\n",
       "      <td>0</td>\n",
       "      <td>1</td>\n",
       "    </tr>\n",
       "  </tbody>\n",
       "</table>\n",
       "<p>1749 rows × 13 columns</p>\n",
       "</div>"
      ],
      "text/plain": [
       "      type_of_breast_surgery  cancer_type  cancer_type_detailed  cellularity  \\\n",
       "1                          1            0                     0            2   \n",
       "2                          0            0                     0            2   \n",
       "3                          0            0                     1            1   \n",
       "4                          0            0                     1            2   \n",
       "5                          0            0                     0            1   \n",
       "...                      ...          ...                   ...          ...   \n",
       "1899                       1            0                     2            2   \n",
       "1900                       0            0                     0            2   \n",
       "1901                       0            0                     0            2   \n",
       "1902                       0            0                     0            1   \n",
       "1903                       1            0                     0            2   \n",
       "\n",
       "      chemotherapy  pam50_+_claudin-low_subtype  neoplasm_histologic_grade  \\\n",
       "1                0                            1                        3.0   \n",
       "2                1                            2                        2.0   \n",
       "3                1                            2                        2.0   \n",
       "4                1                            2                        3.0   \n",
       "5                0                            2                        3.0   \n",
       "...            ...                          ...                        ...   \n",
       "1899             0                            1                        3.0   \n",
       "1900             0                            2                        3.0   \n",
       "1901             0                            2                        3.0   \n",
       "1902             0                            2                        2.0   \n",
       "1903             0                            2                        3.0   \n",
       "\n",
       "      her2_status  hormone_therapy  lymph_nodes_examined_positive  \\\n",
       "1               0                1                            0.0   \n",
       "2               0                1                            1.0   \n",
       "3               0                1                            3.0   \n",
       "4               0                1                            8.0   \n",
       "5               0                1                            0.0   \n",
       "...           ...              ...                            ...   \n",
       "1899            0                1                            1.0   \n",
       "1900            1                0                            1.0   \n",
       "1901            0                1                           45.0   \n",
       "1902            0                1                           12.0   \n",
       "1903            0                1                            1.0   \n",
       "\n",
       "      nottingham_prognostic_index  pr_status  radio_therapy  \n",
       "1                           4.020          1              1  \n",
       "2                           4.030          1              0  \n",
       "3                           4.050          1              1  \n",
       "4                           6.080          1              1  \n",
       "5                           4.062          1              1  \n",
       "...                           ...        ...            ...  \n",
       "1899                        5.050          1              1  \n",
       "1900                        5.040          0              1  \n",
       "1901                        6.050          1              1  \n",
       "1902                        5.050          1              0  \n",
       "1903                        5.040          0              1  \n",
       "\n",
       "[1749 rows x 13 columns]"
      ]
     },
     "execution_count": 25,
     "metadata": {},
     "output_type": "execute_result"
    }
   ],
   "source": [
    "df_features"
   ]
  },
  {
   "cell_type": "code",
   "execution_count": 26,
   "id": "808f9f5f",
   "metadata": {
    "execution": {
     "iopub.execute_input": "2025-09-01T16:36:49.562368Z",
     "iopub.status.busy": "2025-09-01T16:36:49.562043Z",
     "iopub.status.idle": "2025-09-01T16:36:49.568351Z",
     "shell.execute_reply": "2025-09-01T16:36:49.567373Z"
    },
    "papermill": {
     "duration": 0.024131,
     "end_time": "2025-09-01T16:36:49.570009",
     "exception": false,
     "start_time": "2025-09-01T16:36:49.545878",
     "status": "completed"
    },
    "tags": []
   },
   "outputs": [
    {
     "data": {
      "text/plain": [
       "Index(['patient_id', 'age_at_diagnosis', 'type_of_breast_surgery',\n",
       "       'cancer_type', 'cancer_type_detailed', 'cellularity', 'chemotherapy',\n",
       "       'pam50_+_claudin-low_subtype', 'cohort', 'er_status_measured_by_ihc',\n",
       "       ...\n",
       "       'mtap_mut', 'ppp2cb_mut', 'smarcd1_mut', 'nras_mut', 'ndfip1_mut',\n",
       "       'hras_mut', 'prps2_mut', 'smarcb1_mut', 'stmn2_mut', 'siah1_mut'],\n",
       "      dtype='object', length=693)"
      ]
     },
     "execution_count": 26,
     "metadata": {},
     "output_type": "execute_result"
    }
   ],
   "source": [
    "df.columns"
   ]
  },
  {
   "cell_type": "markdown",
   "id": "9cd76d82",
   "metadata": {},
   "source": [
    "### 8. Tách X và y\n",
    "##### - X: tập đặc trưng (features)\n",
    "##### - y: nhãn (label) cần dự đoán, ở đây là overall_survival"
   ]
  },
  {
   "cell_type": "code",
   "execution_count": 27,
   "id": "ce69fae1",
   "metadata": {},
   "outputs": [
    {
     "name": "stdout",
     "output_type": "stream",
     "text": [
      "X shape: (1749, 12)\n",
      "y shape: (1749,)\n",
      "y unique values: [0 1 2 3 4]\n"
     ]
    }
   ],
   "source": [
    "X = df_features.drop(\"cancer_type_detailed\", axis=1)\n",
    "y = df_features[\"cancer_type_detailed\"]\n",
    "\n",
    "print(\"X shape:\", X.shape)\n",
    "print(\"y shape:\", y.shape)\n",
    "print(\"y unique values:\", y.unique())"
   ]
  },
  {
   "cell_type": "markdown",
   "id": "133ff3b5",
   "metadata": {},
   "source": [
    "### 9. Chia dữ liệu train/test"
   ]
  },
  {
   "cell_type": "code",
   "execution_count": 32,
   "id": "3c480d05",
   "metadata": {},
   "outputs": [
    {
     "name": "stdout",
     "output_type": "stream",
     "text": [
      "Train size: 1399\n",
      "Test size: 350\n"
     ]
    }
   ],
   "source": [
    "from sklearn.model_selection import train_test_split\n",
    "\n",
    "X_train, X_test, y_train, y_test = train_test_split(\n",
    "    X, y, test_size=0.2, random_state=42, stratify=y\n",
    ")\n",
    "\n",
    "print(\"Train size:\", X_train.shape[0])\n",
    "print(\"Test size:\", X_test.shape[0])"
   ]
  },
  {
   "cell_type": "markdown",
   "id": "5f3fc6e3",
   "metadata": {},
   "source": [
    "### 10. Huấn luyện SVM"
   ]
  },
  {
   "cell_type": "code",
   "execution_count": 35,
   "id": "6ee5c5dc",
   "metadata": {},
   "outputs": [
    {
     "name": "stdout",
     "output_type": "stream",
     "text": [
      "Accuracy: 0.9532163742690059\n",
      "Confusion Matrix:\n",
      " [[ 57   7]\n",
      " [  1 106]]\n",
      "Classification Report:\n",
      "               precision    recall  f1-score   support\n",
      "\n",
      "           0       0.98      0.89      0.93        64\n",
      "           1       0.94      0.99      0.96       107\n",
      "\n",
      "    accuracy                           0.95       171\n",
      "   macro avg       0.96      0.94      0.95       171\n",
      "weighted avg       0.95      0.95      0.95       171\n",
      "\n"
     ]
    }
   ],
   "source": [
    "import pandas as pd\n",
    "from sklearn.datasets import load_breast_cancer\n",
    "from sklearn.model_selection import train_test_split\n",
    "from sklearn.svm import SVC\n",
    "from sklearn.metrics import classification_report, confusion_matrix, accuracy_score\n",
    "\n",
    "# 1. Load dataset\n",
    "data = load_breast_cancer()\n",
    "X, y = data.data, data.target\n",
    "\n",
    "# 2. Chia train/test\n",
    "X_train, X_test, y_train, y_test = train_test_split(\n",
    "    X, y, test_size=0.3, random_state=42, stratify=y\n",
    ")\n",
    "\n",
    "# 3. Tạo mô hình SVM\n",
    "svm_model = SVC(kernel=\"linear\", random_state=42)\n",
    "\n",
    "# 4. Huấn luyện\n",
    "svm_model.fit(X_train, y_train)\n",
    "\n",
    "# 5. Dự đoán\n",
    "y_pred = svm_model.predict(X_test)\n",
    "\n",
    "# 6. Đánh giá\n",
    "print(\"Accuracy:\", accuracy_score(y_test, y_pred))\n",
    "print(\"Confusion Matrix:\\n\", confusion_matrix(y_test, y_pred))\n",
    "print(\"Classification Report:\\n\", classification_report(y_test, y_pred))\n"
   ]
  }
 ],
 "metadata": {
  "kaggle": {
   "accelerator": "none",
   "dataSources": [
    {
     "datasetId": 676938,
     "sourceId": 1189818,
     "sourceType": "datasetVersion"
    }
   ],
   "dockerImageVersionId": 31089,
   "isGpuEnabled": false,
   "isInternetEnabled": true,
   "language": "python",
   "sourceType": "notebook"
  },
  "kernelspec": {
   "display_name": "Python 3",
   "language": "python",
   "name": "python3"
  },
  "language_info": {
   "codemirror_mode": {
    "name": "ipython",
    "version": 3
   },
   "file_extension": ".py",
   "mimetype": "text/x-python",
   "name": "python",
   "nbconvert_exporter": "python",
   "pygments_lexer": "ipython3",
   "version": "3.13.1"
  },
  "papermill": {
   "default_parameters": {},
   "duration": 105.214714,
   "end_time": "2025-09-01T16:38:19.692168",
   "environment_variables": {},
   "exception": null,
   "input_path": "__notebook__.ipynb",
   "output_path": "__notebook__.ipynb",
   "parameters": {},
   "start_time": "2025-09-01T16:36:34.477454",
   "version": "2.6.0"
  }
 },
 "nbformat": 4,
 "nbformat_minor": 5
}
